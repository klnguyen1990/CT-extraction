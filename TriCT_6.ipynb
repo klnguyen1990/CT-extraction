{
 "cells": [
  {
   "cell_type": "code",
   "execution_count": 1,
   "metadata": {},
   "outputs": [],
   "source": [
    "import numpy as np\n",
    "import os\n",
    "import pydicom\n",
    "import SimpleITK as sitk \n",
    "import re\n",
    "from enum import Enum\n",
    "from dicom_to_cnn.enums.TagEnum import *\n",
    "from dicom_to_cnn.enums.SopClassUID import *\n",
    "from dicom_to_cnn.tools.cleaning_dicom.cleaning_series import *\n",
    "from dicom_to_cnn.tools.cleaning_dicom.folders import *\n",
    "from dicom_to_cnn.model.reader.Instance import Instance\n",
    "from dicom_to_cnn.model.reader.Series import Series\n",
    "from dicom_to_cnn.model.reader.SeriesPT import SeriesPT"
   ]
  },
  {
   "cell_type": "code",
   "execution_count": 2,
   "metadata": {},
   "outputs": [],
   "source": [
    "class TagCT(Enum):\n",
    "    ConvolutionKernel = (0x18,0x1210)#('0018', '1210')"
   ]
  },
  {
   "cell_type": "code",
   "execution_count": 3,
   "metadata": {},
   "outputs": [
    {
     "data": {
      "text/plain": [
       "'ConvolutionKernel'"
      ]
     },
     "execution_count": 3,
     "metadata": {},
     "output_type": "execute_result"
    }
   ],
   "source": [
    "TagCT.ConvolutionKernel.name"
   ]
  },
  {
   "cell_type": "code",
   "execution_count": 4,
   "metadata": {},
   "outputs": [
    {
     "data": {
      "text/plain": [
       "(24, 4624)"
      ]
     },
     "execution_count": 4,
     "metadata": {},
     "output_type": "execute_result"
    }
   ],
   "source": [
    "TagCT.ConvolutionKernel.value"
   ]
  },
  {
   "cell_type": "code",
   "execution_count": 5,
   "metadata": {},
   "outputs": [],
   "source": [
    "class SubInstance(Instance):\n",
    "    def __init__(self, path:str, load_image:bool=True):\n",
    "        super().__init__(path, load_image)\n",
    "\n",
    "    \n",
    "    def get_series_tags(self) -> dict :\n",
    "        \"\"\"method to gather series tags \n",
    "\n",
    "        Returns:\n",
    "            [dict]: [dictionnary of every series tags and value]\n",
    "        \"\"\"\n",
    "        series_tags={}\n",
    "        for tag_address in TagsSeries:\n",
    "            if tag_address.value in self.dicomData :\n",
    "                series_tags[tag_address.name] = self.dicomData[tag_address.value].value\n",
    "            else : series_tags[tag_address.name] = \"Undefined\"\n",
    "       \n",
    "        series_tags[TagCT.ConvolutionKernel.name] = self.get_ConvolutionKernel()\n",
    "        return series_tags\n",
    "    \n",
    "    def get_ConvolutionKernel(self):\n",
    "    \n",
    "        if TagCT.ConvolutionKernel.value in [key for key in self.dicomData.keys()]: #[(f'{key.group:04}',(f'{key.elem:04}')) for key in self.dicomData.keys()]: \n",
    "            return self.dicomData[TagCT.ConvolutionKernel.value].value\n",
    "        else: return 'Undefined'\n",
    "\n",
    "    def display_dicom_metadata(self):\n",
    "        print(self.dicomData)\n",
    "    "
   ]
  },
  {
   "cell_type": "code",
   "execution_count": 6,
   "metadata": {},
   "outputs": [],
   "source": [
    "class SubSeries(Series):\n",
    "    def __init__(self,path):\n",
    "        super().__init__(path)\n",
    "    \n",
    "\n",
    "    def get_first_instance_metadata(self) -> SubInstance:\n",
    "        \"\"\"method to read the first dicom instance in the folder\n",
    "\n",
    "        Returns:\n",
    "            [Instance]: [return Instance object]\n",
    "        \"\"\"\n",
    "        firstFileName = self.file_names[0]\n",
    "        return SubInstance(os.path.join(self.path,firstFileName), load_image=True)\n",
    "\n",
    "    def get_series_details(self) -> dict:\n",
    "        \"\"\"Read the first dicom in the folder and store Patient / Study / Series\n",
    "        informations\n",
    "\n",
    "        Returns:\n",
    "            [dict] -- [Return the details of a Serie from the first Dicom]\n",
    "        \"\"\"\n",
    "        self.series_details = {}\n",
    "        self.patient_details = {}\n",
    "        self.study_details = {}\n",
    "\n",
    "        dicomInstance = self.get_first_instance_metadata()\n",
    "        \n",
    "\n",
    "        self.series_details = dicomInstance.get_series_tags()\n",
    "        self.patient_details = dicomInstance.get_patients_tags()\n",
    "        self.study_details = dicomInstance.get_studies_tags()\n",
    "        self.instance_details = dicomInstance.get_instance_tags()\n",
    "        self.sop_class_uid = dicomInstance.get_sop_class_uid()\n",
    "        self.is_image_series = dicomInstance.is_image_modality()\n",
    "        self.ConvolutionKernel = dicomInstance.get_ConvolutionKernel()\n",
    "        \n",
    "\n",
    "        return {\n",
    "            'series' : self.series_details,\n",
    "            'study' : self.study_details,\n",
    "            'patient' : self.patient_details,\n",
    "            'path' : self.path,\n",
    "            'files' : self.number_of_files,\n",
    "            'instance' : self.instance_details,\n",
    "            'Convolution Kernel' : self.ConvolutionKernel\n",
    "        }\n",
    "\n",
    "    def get_dcm_metadata(self):\n",
    "        return self.get_first_instance_metadata()#.display_dicom_metadata()\n"
   ]
  },
  {
   "cell_type": "code",
   "execution_count": 7,
   "metadata": {},
   "outputs": [],
   "source": [
    "class SeriesCT(SubSeries):\n",
    "    \"\"\"Get Series CT Nifti in 16 Bits\n",
    "\n",
    "    Arguments:\n",
    "        Series {String} -- Series Location Path\n",
    "    \"\"\"\n",
    "\n",
    "    def __init__(self,path:str):\n",
    "        \"\"\"constructor\n",
    "\n",
    "        Args:\n",
    "            path (str): [path folder of CT serie ]\n",
    "        \"\"\"\n",
    "        super().__init__(path)\n",
    "\n",
    "    def get_numpy_array(self) -> np.ndarray:\n",
    "        numpy_array = super().get_numpy_array()\n",
    "        return numpy_array.astype(np.int16)\n",
    "\n",
    "    def export_nifti(self, file_path:str):\n",
    "        \"\"\"method to export/save ndarray of series to nifti format\n",
    "\n",
    "        Args:\n",
    "            file_path (str): [directory+filename of the nifti]\n",
    "        \"\"\"\n",
    "        sitk_img = sitk.GetImageFromArray( np.transpose(self.get_numpy_array(), (2,0,1) ))\n",
    "        sitk_img = sitk.Cast(sitk_img, sitk.sitkInt16)\n",
    "        original_pixel_spacing = self.instance_array[0].get_pixel_spacing()        \n",
    "        original_direction = self.instance_array[0].get_image_orientation()\n",
    "        try:\n",
    "            sitk_img.SetDirection( (float(original_direction[0]), float(original_direction[1]), float(original_direction[2]), \n",
    "                                    float(original_direction[3]), float(original_direction[4]), float(original_direction[5]), \n",
    "                                    0.0, 0.0, 1.0) )\n",
    "        except: \n",
    "            sitk_img.SetDirection( (float(original_direction[0]), float(original_direction[1]), float(original_direction[2]),  \n",
    "                                    0.0, 1.0, 0.0,\n",
    "                                    float(original_direction[3]), float(original_direction[4]), float(original_direction[5])) )\n",
    "        sitk_img.SetOrigin( self.instance_array[0].get_image_position() )\n",
    "        sitk_img.SetSpacing((original_pixel_spacing[0], original_pixel_spacing[1], self.get_z_spacing()))\n",
    "        sitk.WriteImage(sitk_img, file_path)"
   ]
  },
  {
   "cell_type": "code",
   "execution_count": 8,
   "metadata": {},
   "outputs": [],
   "source": [
    "def get_series_object(path:str):\n",
    "    \"\"\"\n",
    "    class method to generate a Series object\n",
    "\n",
    "    Args:\n",
    "        path (str): [path folder of series]\n",
    "\n",
    "    Returns:\n",
    "        [Series]: [return a Series object]\n",
    "    \"\"\"\n",
    "    try:\n",
    "        first_file_name = os.listdir(path)[0]\n",
    "\n",
    "    except Exception as err:\n",
    "        print('ERRR')\n",
    "        print(err)\n",
    "        print(path)\n",
    "    first_instance = SubInstance( os.path.join(path,first_file_name) )\n",
    "    sop_class_uid = first_instance.get_sop_class_uid()\n",
    "    if(sop_class_uid == ImageModalitiesSOPClass.PT.value or sop_class_uid == ImageModalitiesSOPClass.EnhancedPT.value):\n",
    "        return SeriesPT(path)\n",
    "    if (sop_class_uid == ImageModalitiesSOPClass.CT.value or sop_class_uid == ImageModalitiesSOPClass.EnhancedCT.value):\n",
    "        return SeriesCT(path)\n",
    "    else : return SubSeries(path)"
   ]
  },
  {
   "cell_type": "code",
   "execution_count": 9,
   "metadata": {},
   "outputs": [],
   "source": [
    "def get_numbers(test_string):\n",
    "   \n",
    "    if isinstance(test_string,pydicom.multival.MultiValue):\n",
    "        test_string=list(test_string)[0]\n",
    "    temp = re.findall(r'\\d+', test_string)\n",
    "    res = list(map(int, temp))\n",
    "    \n",
    "    return res[0]"
   ]
  },
  {
   "cell_type": "code",
   "execution_count": 10,
   "metadata": {},
   "outputs": [],
   "source": [
    "def atoi(text):\n",
    "    if isinstance(text,pydicom.multival.MultiValue):\n",
    "        text=list(text)[0]\n",
    "    return int(text) if text.isdigit() else text\n",
    "\n",
    "def natural_keys(text):\n",
    "    '''\n",
    "    alist.sort(key=natural_keys) sorts in human order\n",
    "    http://nedbatchelder.com/blog/200712/human_sorting.html\n",
    "    (See Toothy's implementation in the comments)\n",
    "    '''\n",
    "    \n",
    "    return [ atoi(c) for c in re.split(r'(\\d+)', text) ]"
   ]
  },
  {
   "cell_type": "code",
   "execution_count": 11,
   "metadata": {},
   "outputs": [],
   "source": [
    "Patient_dir ='/Users/nguyenkhaclan/Desktop/CT/2patients'#'/media/nguyen-k/A75D-9A3A/CASSIOPET/CT/CASSIOPET' #'/media/nguyen-k/BackupPlus/CT/2patients'\n",
    "list_patient_id = os.listdir(Patient_dir)\n",
    "dcm_folder = 'Screening_(Baseline)'"
   ]
  },
  {
   "cell_type": "code",
   "execution_count": 12,
   "metadata": {},
   "outputs": [
    {
     "name": "stdout",
     "output_type": "stream",
     "text": [
      "031-23\n",
      "/Users/nguyenkhaclan/Desktop/CT/2patients/031-23/Screening_(Baseline)/1.3.12.2.1107.5.1.4.11061.30000016112407592437400013703\n",
      "/Users/nguyenkhaclan/Desktop/CT/2patients/031-23/Screening_(Baseline)/1.3.12.2.1107.5.1.4.11061.30000016112408011040300020187\n",
      "/Users/nguyenkhaclan/Desktop/CT/2patients/031-23/Screening_(Baseline)/1.3.12.2.1107.5.1.4.11061.30000016112408011040300021151\n",
      "/Users/nguyenkhaclan/Desktop/CT/2patients/031-23/Screening_(Baseline)/1.3.12.2.1107.5.1.4.11061.30000016112407592437400014193\n",
      "========================================================================================\n",
      "/Users/nguyenkhaclan/Desktop/CT/Json_Dir/1.3.12.2.1107.5.1.4.11061.30000016112407592437400013703.json\n",
      "========================================================================================\n",
      "/Users/nguyenkhaclan/Desktop/CT/Json_Dir/1.3.12.2.1107.5.1.4.11061.30000016112407592437400013703.json\n",
      "/Users/nguyenkhaclan/Desktop/CT/Json_Dir/1.3.12.2.1107.5.1.4.11061.30000016112407592437400014193.json\n",
      "009-26\n",
      "/Users/nguyenkhaclan/Desktop/CT/2patients/009-26/Screening_(Baseline)/1.2.840.113619.2.290.3.1141511208.88.1484633698.566.3\n",
      "/Users/nguyenkhaclan/Desktop/CT/2patients/009-26/Screening_(Baseline)/1.2.840.113619.2.290.3.1141511208.88.1484633699.119\n",
      "========================================================================================\n",
      "/Users/nguyenkhaclan/Desktop/CT/Json_Dir/1.3.12.2.1107.5.1.4.11061.30000016112407592437400013703.json\n",
      "/Users/nguyenkhaclan/Desktop/CT/Json_Dir/1.2.840.113619.2.290.3.1141511208.88.1484633698.566.3.json\n",
      "/Users/nguyenkhaclan/Desktop/CT/Json_Dir/1.3.12.2.1107.5.1.4.11061.30000016112407592437400014193.json\n",
      ".DS_Store\n",
      "/Users/nguyenkhaclan/Desktop/CT/Json_Merged_Dir/merged_file.json\n"
     ]
    },
    {
     "data": {
      "text/plain": [
       "'Get list path non intersting...'"
      ]
     },
     "execution_count": 12,
     "metadata": {},
     "output_type": "execute_result"
    }
   ],
   "source": [
    "export_folder = '/Users/nguyenkhaclan/Desktop/CT/Json_Dir'\n",
    "list_files = os.listdir(export_folder)\n",
    "export_merged_folder='/Users/nguyenkhaclan/Desktop/CT/Json_Merged_Dir'\n",
    "merged_file_name = 'merged_file'\n",
    "\n",
    "os.system('rm -rf ' + export_folder + '/*')\n",
    "os.system('rm -rf ' + export_merged_folder + '/*')\n",
    "\n",
    "for patient_id in list_patient_id:\n",
    "\n",
    "    print(patient_id)\n",
    "\n",
    "    if '.DS_Store' in list_files : list_files.remove('.DS_Store'); 'Removing .DS_Store file...'\n",
    "\n",
    "    path = os.path.join(Patient_dir,patient_id,dcm_folder);  'path of dicom directory Screening_(Baseline)...'\n",
    "\n",
    "    \n",
    "    serie_paths = get_series_path(path); 'paths of all dicom folders : '\n",
    "\n",
    "\n",
    "    for serie_path in serie_paths:\n",
    "        dicom_serie = get_series_object(serie_path)\n",
    "        \n",
    "        if isinstance(dicom_serie,SeriesCT):\n",
    "            print('========================================================================================')\n",
    "            \n",
    "            #print(dicom_serie.get_dcm_metadata().dicomData[TagCT.ConvolutionKernel.value].value)\n",
    "            #print(dicom_serie.get_dcm_metadata().dicomData)\n",
    "            dicomsInfo = dicom_serie.get_series_details()\n",
    "            \n",
    "            if dicomsInfo['series']['Modality'] == 'CT':\n",
    "                \n",
    "                write_json_file(export_folder, dicomsInfo['series']['SeriesInstanceUID'], dicomsInfo); 'Write dicom info...'\n",
    "                content_map = generate_merged_file(export_folder)\n",
    "                write_json_file(export_merged_folder,merged_file_name , dict(content_map))\n",
    "            \n",
    "\n",
    "        \n",
    "json_merged_file_path = os.path.join(export_merged_folder,merged_file_name + '.json')\n",
    "print(json_merged_file_path)\n",
    "list_path_non_intersting = find_non_intersting_series(json_merged_file_path); 'Get list path non intersting...'"
   ]
  },
  {
   "cell_type": "code",
   "execution_count": 13,
   "metadata": {},
   "outputs": [
    {
     "name": "stdout",
     "output_type": "stream",
     "text": [
      "[]\n"
     ]
    }
   ],
   "source": [
    "print(list_path_non_intersting)"
   ]
  },
  {
   "cell_type": "code",
   "execution_count": 14,
   "metadata": {},
   "outputs": [
    {
     "name": "stdout",
     "output_type": "stream",
     "text": [
      "['031-23', '009-26']\n"
     ]
    }
   ],
   "source": [
    "with open(os.path.join(export_merged_folder,'merged_file.json')) as json_file:\n",
    "    merged_data = json.load(json_file)\n",
    "    list_merged_id = [key for key in merged_data.keys()]\n",
    "    print(list_merged_id)"
   ]
  },
  {
   "cell_type": "code",
   "execution_count": 15,
   "metadata": {},
   "outputs": [
    {
     "name": "stdout",
     "output_type": "stream",
     "text": [
      "031-23\n",
      "=============\n",
      "1.2.840.113711.3413733.456028.501674924.26.2116281012.10\n",
      "=============\n",
      "SeIUID =  ['1.3.12.2.1107.5.1.4.11061.30000016112407592437400013703', '1.3.12.2.1107.5.1.4.11061.30000016112407592437400014193']\n",
      "serie_paths ['/Users/nguyenkhaclan/Desktop/CT/2patients/031-23/Screening_(Baseline)/1.3.12.2.1107.5.1.4.11061.30000016112407592437400013703', '/Users/nguyenkhaclan/Desktop/CT/2patients/031-23/Screening_(Baseline)/1.3.12.2.1107.5.1.4.11061.30000016112407592437400014193']\n",
      "list_CT_folders ['/Users/nguyenkhaclan/Desktop/CT/2patients/031-23/Screening_(Baseline)/1.3.12.2.1107.5.1.4.11061.30000016112407592437400013703', '/Users/nguyenkhaclan/Desktop/CT/2patients/031-23/Screening_(Baseline)/1.3.12.2.1107.5.1.4.11061.30000016112407592437400014193']\n",
      "ListConvolutionKernel ini ['B30s', 'B70s']\n",
      "splitstr :  [['B', 30, 's'], ['B', 70, 's']]\n",
      "max_index 1 [0]\n",
      "equal\n",
      "max_index 1 [0, 1]\n",
      "len max_index  > 1  True\n",
      "KO.......\n",
      "2\n",
      "max_index_1 1 [1]\n",
      "index :  1\n",
      "ListConvolutionKernel ['B30s', 'B70s']\n",
      "List Conv Selected B70s\n",
      "Selecting dicom info done...\n",
      "write json done...\n",
      "009-26\n",
      "=============\n",
      "2.16.840.1.113669.632.20.330001.10003220298\n",
      "=============\n",
      "SeIUID =  ['1.2.840.113619.2.290.3.1141511208.88.1484633698.566.3']\n",
      "serie_paths ['/Users/nguyenkhaclan/Desktop/CT/2patients/009-26/Screening_(Baseline)/1.2.840.113619.2.290.3.1141511208.88.1484633698.566.3']\n",
      "list_CT_folders ['/Users/nguyenkhaclan/Desktop/CT/2patients/009-26/Screening_(Baseline)/1.2.840.113619.2.290.3.1141511208.88.1484633698.566.3']\n",
      "ListConvolutionKernel ini ['STANDARD']\n",
      "ListConvolutionKernel ['STANDARD']\n",
      "List Conv Selected STANDARD\n",
      "write json done...\n"
     ]
    }
   ],
   "source": [
    "#'SORT FILTRES'\n",
    "list_StudyInstanceUID = []\n",
    "list_CT_folders_selelected = []\n",
    "os.system('rm -rf ' + export_folder + '/*')\n",
    "serie_paths=[]\n",
    "non_interesting_part = ['LUNG','POUMON','BONE']\n",
    "list_conv_is_list = {'patient_id' : None, 'ConvKernel' : None}\n",
    "for patient_id in list_merged_id:\n",
    "\n",
    "    if '.DS_Store' in list_patient_id : list_patient_id.remove('.DS_Store')\n",
    "\n",
    "    print(patient_id)\n",
    "\n",
    "    \n",
    "    SIUID = [k for k in merged_data[patient_id].keys()]\n",
    "\n",
    "    for siuid in SIUID:\n",
    "        print('=============')\n",
    "        print(siuid)\n",
    "        print('=============')\n",
    "        SeIUID = [s for s in merged_data[patient_id][siuid]['Series'].keys()]\n",
    "        print('SeIUID = ',SeIUID)\n",
    "        serie_paths=[]\n",
    "        for seiud in SeIUID:\n",
    "            serie_path = merged_data[patient_id][siuid]['Series'][seiud]['path']\n",
    "            serie_paths.append(serie_path) \n",
    "\n",
    "        print('serie_paths',serie_paths)\n",
    "\n",
    "        \n",
    "        list_CT_folders = []\n",
    "        ListConvolutionKernel = []\n",
    "        ListDicomInfo = []\n",
    "        \n",
    "\n",
    "        for serie_path in serie_paths:\n",
    "            \n",
    "            if serie_path not in list_path_non_intersting:\n",
    "                #ListConvolutionKernel = []\n",
    "\n",
    "                dicom_serie = get_series_object(serie_path)\n",
    "                dicomsInfo = dicom_serie.get_series_details()\n",
    "                list_CT_folders.append(serie_path)\n",
    "                ListDicomInfo.append(dicomsInfo)\n",
    "                ListConvolutionKernel.append(dicomsInfo['series']['ConvolutionKernel'])\n",
    "        \n",
    "        print('list_CT_folders',list_CT_folders)\n",
    "        print('ListConvolutionKernel ini',ListConvolutionKernel)\n",
    "\n",
    "        \n",
    "        if len(ListConvolutionKernel)>1:\n",
    "            \n",
    "            if ListConvolutionKernel == ['STANDARD','LUNG'] or ListConvolutionKernel == ['LUNG', 'STANDARD', 'BONE'] or ListConvolutionKernel == ['LUNG', 'BONE']:\n",
    "                dicomsInfoSelected = ListDicomInfo.copy()\n",
    "                print('List Conv Selected ',ListConvolutionKernel)\n",
    "                list_CT_folders_selelected.extend(list_CT_folders)\n",
    "                \n",
    "            \n",
    "                    \n",
    "            else:\n",
    "                assert len(ListConvolutionKernel)==2\n",
    "                \n",
    "                if all(isinstance(conv, pydicom.multival.MultiValue) for conv in ListConvolutionKernel):\n",
    "                    list_conv_is_list['patient_id'] = patient_id\n",
    "                    list_conv_is_list['ConvKernel'] = ListConvolutionKernel\n",
    "                    for i in range(len(ListConvolutionKernel)):\n",
    "                        ListConvolutionKernel[i] = ListConvolutionKernel[i][0]\n",
    "                    print('list of conv kernel list : ',ListConvolutionKernel) \n",
    "\n",
    "                for i in range(len(ListConvolutionKernel)):\n",
    "                    if isinstance(ListConvolutionKernel[i],list):\n",
    "                        ListConvolutionKernel[i] = ListConvolutionKernel[i][0] \n",
    "\n",
    "                splitstr=[]\n",
    "                \n",
    "                for i in range(len(ListConvolutionKernel)):\n",
    "                    splitstr.append(natural_keys(ListConvolutionKernel[i]))\n",
    "\n",
    "                print('splitstr : ',splitstr)\n",
    "                \n",
    "                \n",
    "\n",
    "                max_tmp = splitstr[0][0]\n",
    "                max_index = [0]\n",
    "                for conv_id in range(1,2): # only 2 CT piles\n",
    "                    print(f'max_index {conv_id}',max_index)\n",
    "                    if splitstr[conv_id][0] < max_tmp:\n",
    "                        print('max')\n",
    "                        max_tmp = splitstr[conv_id][0]\n",
    "                        max_index = [conv_id]\n",
    "                        print(f'max_index{conv_id}',max_index)\n",
    "                        \n",
    "                    elif splitstr[conv_id][0] == max_tmp: \n",
    "                        print('equal')\n",
    "                        max_tmp = splitstr[conv_id][0]\n",
    "                        max_index.append(conv_id)\n",
    "                    else:\n",
    "                        print('continue...')\n",
    "\n",
    "                    print(f'max_index {conv_id}',max_index)\n",
    "                    print('len max_index  > 1 ',len(max_index)>1)\n",
    "\n",
    "                if len(max_index)>1:\n",
    "                    print('KO.......')\n",
    "                    print(len(max_index))\n",
    "                    if len(splitstr[max_index[0]]) > 1:\n",
    "                        max_tmp_1 = splitstr[max_index[0]][1]\n",
    "                        max_index_1 = max_index.copy()\n",
    "                        for conv_id in range(1,2):\n",
    "                            if splitstr[conv_id][1] > max_tmp_1:\n",
    "                                max_tmp_1 = splitstr[conv_id][1]\n",
    "                                max_index_1 = [conv_id]\n",
    "                                print(f'max_index_1 {conv_id}',max_index_1)\n",
    "\n",
    "                            elif splitstr[conv_id][1] == max_tmp: \n",
    "                                max_tmp_1 = splitstr[conv_id][1]\n",
    "                                max_index_1.append(conv_id)\n",
    "                            else:\n",
    "                                print('continue...')\n",
    "                \n",
    "                if \"max_index_1\" in locals():      \n",
    "                    if len(max_index_1)>1:\n",
    "                        max_tmp_2 = splitstr[max_index[0]][2]\n",
    "                        max_index_2 = max_index.copy()\n",
    "                        for conv_id in range(1,2):\n",
    "                            if splitstr[conv_id][2] < max_tmp_2:\n",
    "                                max_tmp_2 = splitstr[conv_id][2]\n",
    "                                max_index_2 = [conv_id]\n",
    "                                print(f'max_index_2 {conv_id}',max_index_2)\n",
    "\n",
    "                            elif splitstr[conv_id][2] == max_tmp: \n",
    "                                max_tmp_2 = splitstr[conv_id][2]\n",
    "                                max_index_2.append(conv_id)\n",
    "                            else:\n",
    "                                print('continue...')\n",
    "                \n",
    "                if \"max_index_2\" in locals():\n",
    "                    index = max_index_2[0]\n",
    "                elif  \"max_index_1\" in locals():\n",
    "                    index = max_index_1[0]\n",
    "                else:\n",
    "                    if any(conv=='STANDARD' for conv in ListConvolutionKernel):\n",
    "                        index = max_index\n",
    "                    else:\n",
    "                        index = max_index[0]\n",
    "\n",
    "                        \n",
    "                print('index : ',index)\n",
    "                if isinstance(index,list):\n",
    "                    dicomsInfoSelected = [ListDicomInfo[ind] for ind in index]\n",
    "                    for ind in index:\n",
    "                        list_CT_folders_selelected.append(list_CT_folders[ind])\n",
    "                        remove_bi_file(serie_paths[ind])\n",
    "                    print('ListConvolutionKernel',ListConvolutionKernel)\n",
    "                    print('List Conv Selected',[ListConvolutionKernel[ind] for ind in index])\n",
    "                else:\n",
    "                    \n",
    "                    dicomsInfoSelected = ListDicomInfo[index]\n",
    "                    list_CT_folders_selelected.append(list_CT_folders[index])\n",
    "\n",
    "                    print('ListConvolutionKernel',ListConvolutionKernel)\n",
    "                    print('List Conv Selected',ListConvolutionKernel[index])\n",
    "\n",
    "                    remove_bi_file(serie_paths[index])\n",
    "                \n",
    "                \n",
    "                \n",
    "                print('Selecting dicom info done...')\n",
    "\n",
    "                if \"max_index_1\" in locals() : del max_index_1\n",
    "                if \"max_index_2\" in locals() : del max_index_2\n",
    "        elif len(ListConvolutionKernel)==1:\n",
    "            dicomsInfoSelected = ListDicomInfo[0]\n",
    "            list_CT_folders_selelected.append(list_CT_folders[0])\n",
    "            print('ListConvolutionKernel',ListConvolutionKernel)\n",
    "            print('List Conv Selected',ListConvolutionKernel[0])\n",
    "            \n",
    "        else:\n",
    "            continue\n",
    "\n",
    "        if isinstance(dicomsInfoSelected,list): \n",
    "            for i in range(len(dicomsInfoSelected)):\n",
    "                write_json_file(export_folder, dicomsInfoSelected[i]['series']['SeriesInstanceUID'], dicomsInfoSelected)\n",
    "            \n",
    "        else:\n",
    "            write_json_file(export_folder, dicomsInfoSelected['series']['SeriesInstanceUID'], dicomsInfoSelected)\n",
    "        print('write json done...')"
   ]
  },
  {
   "cell_type": "code",
   "execution_count": 16,
   "metadata": {},
   "outputs": [
    {
     "name": "stdout",
     "output_type": "stream",
     "text": [
      "list_CT_folders_selelected ['/Users/nguyenkhaclan/Desktop/CT/2patients/031-23/Screening_(Baseline)/1.3.12.2.1107.5.1.4.11061.30000016112407592437400014193', '/Users/nguyenkhaclan/Desktop/CT/2patients/009-26/Screening_(Baseline)/1.2.840.113619.2.290.3.1141511208.88.1484633698.566.3']\n"
     ]
    }
   ],
   "source": [
    "print('list_CT_folders_selelected',list_CT_folders_selelected)"
   ]
  },
  {
   "cell_type": "code",
   "execution_count": 17,
   "metadata": {},
   "outputs": [
    {
     "name": "stdout",
     "output_type": "stream",
     "text": [
      "[]\n"
     ]
    }
   ],
   "source": [
    "list_id = []\n",
    "for path in list_CT_folders_selelected:\n",
    "     list_id.append(path.split('/')[6])\n",
    "\n",
    "dup_index = [idx for idx, item in enumerate(list_id) if item in list_id[:idx]]\n",
    "print(dup_index)"
   ]
  },
  {
   "cell_type": "code",
   "execution_count": 18,
   "metadata": {},
   "outputs": [
    {
     "name": "stdout",
     "output_type": "stream",
     "text": [
      "[Errno 2] No such file or directory: '/home/nguyen-k/Bureau/segCassiopet/CT/nifti_final'\n"
     ]
    },
    {
     "data": {
      "text/plain": [
       "0"
      ]
     },
     "execution_count": 18,
     "metadata": {},
     "output_type": "execute_result"
    }
   ],
   "source": [
    "save_nifti_dir = '/home/nguyen-k/Bureau/segCassiopet/CT/nifti_final'#'/media/nguyen-k/A75D-9A3A/CASSIOPET/CT/nifti'\n",
    "try: \n",
    "    os.mkdir(save_nifti_dir) \n",
    "except OSError as error: \n",
    "    print(error)  \n",
    "os.system('rm -rf ' + save_nifti_dir + '/*')"
   ]
  },
  {
   "cell_type": "code",
   "execution_count": 19,
   "metadata": {},
   "outputs": [
    {
     "name": "stdout",
     "output_type": "stream",
     "text": [
      "/Users/nguyenkhaclan/Desktop/CT/2patients/031-23/Screening_(Baseline)/1.3.12.2.1107.5.1.4.11061.30000016112407592437400014193\n",
      "/home/nguyen-k/Bureau/segCassiopet/CT/nifti_final/031-23\n",
      "[Errno 2] No such file or directory: '/home/nguyen-k/Bureau/segCassiopet/CT/nifti_final/031-23'\n"
     ]
    },
    {
     "name": "stderr",
     "output_type": "stream",
     "text": [
      "** ERROR (nifti_image_write_hdr_img2): cannot open output file '/home/nguyen-k/Bureau/segCassiopet/CT/nifti_final/031-23/patientCT.nii'\n"
     ]
    },
    {
     "name": "stdout",
     "output_type": "stream",
     "text": [
      "/Users/nguyenkhaclan/Desktop/CT/2patients/009-26/Screening_(Baseline)/1.2.840.113619.2.290.3.1141511208.88.1484633698.566.3\n",
      "/home/nguyen-k/Bureau/segCassiopet/CT/nifti_final/009-26\n",
      "[Errno 2] No such file or directory: '/home/nguyen-k/Bureau/segCassiopet/CT/nifti_final/009-26'\n",
      "Patient 009-26 has only one z position...\n"
     ]
    }
   ],
   "source": [
    "list_patient_no_img = []\n",
    "\n",
    "for i in range(len(list_CT_folders_selelected)):\n",
    "   \n",
    "    CT_path = list_CT_folders_selelected[i]\n",
    "    print(CT_path) \n",
    "    patient_id = CT_path.split('/')[6]\n",
    "    patient_id_nifti_dir = os.path.join(save_nifti_dir,patient_id)\n",
    "    print(patient_id_nifti_dir)\n",
    "    try: \n",
    "        os.mkdir(patient_id_nifti_dir) \n",
    "    except OSError as error: \n",
    "        print(error)  \n",
    "\n",
    "    CT = SeriesCT(CT_path)\n",
    "    try:\n",
    "        if i not in dup_index:\n",
    "            CT.export_nifti(os.path.join(patient_id_nifti_dir,'patientCT.nii'))\n",
    "        else:\n",
    "            CT.export_nifti(os.path.join(patient_id_nifti_dir,'patientCT_'+str(i)+'.nii'))\n",
    "    except:\n",
    "        print(f'Patient {patient_id} has only one z position...')\n",
    "        list_patient_no_img.append(patient_id)\n",
    "    "
   ]
  },
  {
   "cell_type": "code",
   "execution_count": 20,
   "metadata": {},
   "outputs": [
    {
     "name": "stdout",
     "output_type": "stream",
     "text": [
      "['009-26']\n"
     ]
    }
   ],
   "source": [
    "print(list_patient_no_img)"
   ]
  }
 ],
 "metadata": {
  "interpreter": {
   "hash": "17774354d4c58de17da4603207cd4ebf54859015a226b94d0a87205536da32b9"
  },
  "kernelspec": {
   "display_name": "Python 3.9.7 ('base')",
   "language": "python",
   "name": "python3"
  },
  "language_info": {
   "codemirror_mode": {
    "name": "ipython",
    "version": 3
   },
   "file_extension": ".py",
   "mimetype": "text/x-python",
   "name": "python",
   "nbconvert_exporter": "python",
   "pygments_lexer": "ipython3",
   "version": "3.9.7"
  },
  "orig_nbformat": 4
 },
 "nbformat": 4,
 "nbformat_minor": 2
}
